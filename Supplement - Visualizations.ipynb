{
 "cells": [
  {
   "cell_type": "code",
   "execution_count": 2,
   "metadata": {},
   "outputs": [],
   "source": [
    "from ipywidgets import interact, fixed\n",
    "import pandas as pd\n",
    "import numpy as np \n",
    "import seaborn as sns\n",
    "sns.set(style=\"whitegrid\")"
   ]
  },
  {
   "cell_type": "code",
   "execution_count": 3,
   "metadata": {},
   "outputs": [],
   "source": [
    "final_data = pd.read_csv(\"final_data.csv\")"
   ]
  },
  {
   "cell_type": "code",
   "execution_count": 4,
   "metadata": {},
   "outputs": [
    {
     "data": {
      "text/html": [
       "<div>\n",
       "<style scoped>\n",
       "    .dataframe tbody tr th:only-of-type {\n",
       "        vertical-align: middle;\n",
       "    }\n",
       "\n",
       "    .dataframe tbody tr th {\n",
       "        vertical-align: top;\n",
       "    }\n",
       "\n",
       "    .dataframe thead th {\n",
       "        text-align: right;\n",
       "    }\n",
       "</style>\n",
       "<table border=\"1\" class=\"dataframe\">\n",
       "  <thead>\n",
       "    <tr style=\"text-align: right;\">\n",
       "      <th></th>\n",
       "      <th>Unnamed: 0</th>\n",
       "      <th>sequence</th>\n",
       "      <th>postdate</th>\n",
       "      <th>description</th>\n",
       "      <th>pattern</th>\n",
       "      <th>before_balance</th>\n",
       "      <th>amount</th>\n",
       "      <th>after_balance</th>\n",
       "      <th>is_zero_delta</th>\n",
       "      <th>consumer_ref</th>\n",
       "      <th>...</th>\n",
       "      <th>num_similar</th>\n",
       "      <th>num_similar_bool</th>\n",
       "      <th>day</th>\n",
       "      <th>month</th>\n",
       "      <th>week_bin_1</th>\n",
       "      <th>week_bin_2</th>\n",
       "      <th>week_bin_3</th>\n",
       "      <th>week_bin_4</th>\n",
       "      <th>large_amount</th>\n",
       "      <th>wagesal_pattern</th>\n",
       "    </tr>\n",
       "  </thead>\n",
       "  <tbody>\n",
       "    <tr>\n",
       "      <th>0</th>\n",
       "      <td>0</td>\n",
       "      <td>81</td>\n",
       "      <td>2019-08-27</td>\n",
       "      <td>CASHFOCUS SALARIS/SALARY</td>\n",
       "      <td>cashfocu salari</td>\n",
       "      <td>236.33</td>\n",
       "      <td>6602.38</td>\n",
       "      <td>6838.71</td>\n",
       "      <td>0</td>\n",
       "      <td>111993</td>\n",
       "      <td>...</td>\n",
       "      <td>0</td>\n",
       "      <td>0</td>\n",
       "      <td>27</td>\n",
       "      <td>8</td>\n",
       "      <td>0</td>\n",
       "      <td>0</td>\n",
       "      <td>0</td>\n",
       "      <td>1</td>\n",
       "      <td>0</td>\n",
       "      <td>1</td>\n",
       "    </tr>\n",
       "    <tr>\n",
       "      <th>1</th>\n",
       "      <td>1</td>\n",
       "      <td>17</td>\n",
       "      <td>2019-09-26</td>\n",
       "      <td>CASHFOCUS SALARIS/SALARY</td>\n",
       "      <td>cashfocu salari</td>\n",
       "      <td>142.54</td>\n",
       "      <td>5533.09</td>\n",
       "      <td>5675.63</td>\n",
       "      <td>0</td>\n",
       "      <td>111993</td>\n",
       "      <td>...</td>\n",
       "      <td>0</td>\n",
       "      <td>0</td>\n",
       "      <td>26</td>\n",
       "      <td>9</td>\n",
       "      <td>0</td>\n",
       "      <td>0</td>\n",
       "      <td>0</td>\n",
       "      <td>1</td>\n",
       "      <td>0</td>\n",
       "      <td>1</td>\n",
       "    </tr>\n",
       "    <tr>\n",
       "      <th>2</th>\n",
       "      <td>2</td>\n",
       "      <td>187</td>\n",
       "      <td>2019-04-23</td>\n",
       "      <td>AHL PAYROLL AC; SALARY</td>\n",
       "      <td>ahl payrol ac salari</td>\n",
       "      <td>27.80</td>\n",
       "      <td>11933.31</td>\n",
       "      <td>11961.11</td>\n",
       "      <td>0</td>\n",
       "      <td>50274</td>\n",
       "      <td>...</td>\n",
       "      <td>5</td>\n",
       "      <td>1</td>\n",
       "      <td>23</td>\n",
       "      <td>4</td>\n",
       "      <td>0</td>\n",
       "      <td>0</td>\n",
       "      <td>0</td>\n",
       "      <td>1</td>\n",
       "      <td>1</td>\n",
       "      <td>1</td>\n",
       "    </tr>\n",
       "    <tr>\n",
       "      <th>3</th>\n",
       "      <td>3</td>\n",
       "      <td>119</td>\n",
       "      <td>2019-05-23</td>\n",
       "      <td>AHL PAYROLL AC; SALARY</td>\n",
       "      <td>ahl payrol ac salari</td>\n",
       "      <td>19.51</td>\n",
       "      <td>11522.58</td>\n",
       "      <td>11542.09</td>\n",
       "      <td>0</td>\n",
       "      <td>50274</td>\n",
       "      <td>...</td>\n",
       "      <td>5</td>\n",
       "      <td>1</td>\n",
       "      <td>23</td>\n",
       "      <td>5</td>\n",
       "      <td>0</td>\n",
       "      <td>0</td>\n",
       "      <td>0</td>\n",
       "      <td>1</td>\n",
       "      <td>1</td>\n",
       "      <td>1</td>\n",
       "    </tr>\n",
       "    <tr>\n",
       "      <th>4</th>\n",
       "      <td>4</td>\n",
       "      <td>47</td>\n",
       "      <td>2019-06-21</td>\n",
       "      <td>AHL PAYROLL AC; SALARY</td>\n",
       "      <td>ahl payrol ac salari</td>\n",
       "      <td>35.39</td>\n",
       "      <td>12600.72</td>\n",
       "      <td>12636.11</td>\n",
       "      <td>0</td>\n",
       "      <td>50274</td>\n",
       "      <td>...</td>\n",
       "      <td>2</td>\n",
       "      <td>0</td>\n",
       "      <td>21</td>\n",
       "      <td>6</td>\n",
       "      <td>0</td>\n",
       "      <td>0</td>\n",
       "      <td>1</td>\n",
       "      <td>0</td>\n",
       "      <td>1</td>\n",
       "      <td>1</td>\n",
       "    </tr>\n",
       "  </tbody>\n",
       "</table>\n",
       "<p>5 rows × 31 columns</p>\n",
       "</div>"
      ],
      "text/plain": [
       "   Unnamed: 0  sequence    postdate               description  \\\n",
       "0           0        81  2019-08-27  CASHFOCUS SALARIS/SALARY   \n",
       "1           1        17  2019-09-26  CASHFOCUS SALARIS/SALARY   \n",
       "2           2       187  2019-04-23    AHL PAYROLL AC; SALARY   \n",
       "3           3       119  2019-05-23    AHL PAYROLL AC; SALARY   \n",
       "4           4        47  2019-06-21    AHL PAYROLL AC; SALARY   \n",
       "\n",
       "                pattern  before_balance    amount  after_balance  \\\n",
       "0       cashfocu salari          236.33   6602.38        6838.71   \n",
       "1       cashfocu salari          142.54   5533.09        5675.63   \n",
       "2  ahl payrol ac salari           27.80  11933.31       11961.11   \n",
       "3  ahl payrol ac salari           19.51  11522.58       11542.09   \n",
       "4  ahl payrol ac salari           35.39  12600.72       12636.11   \n",
       "\n",
       "   is_zero_delta  consumer_ref  ...  num_similar  num_similar_bool day  month  \\\n",
       "0              0        111993  ...            0                 0  27      8   \n",
       "1              0        111993  ...            0                 0  26      9   \n",
       "2              0         50274  ...            5                 1  23      4   \n",
       "3              0         50274  ...            5                 1  23      5   \n",
       "4              0         50274  ...            2                 0  21      6   \n",
       "\n",
       "  week_bin_1  week_bin_2  week_bin_3 week_bin_4  large_amount  wagesal_pattern  \n",
       "0          0           0           0          1             0                1  \n",
       "1          0           0           0          1             0                1  \n",
       "2          0           0           0          1             1                1  \n",
       "3          0           0           0          1             1                1  \n",
       "4          0           0           1          0             1                1  \n",
       "\n",
       "[5 rows x 31 columns]"
      ]
     },
     "execution_count": 4,
     "metadata": {},
     "output_type": "execute_result"
    }
   ],
   "source": [
    "final_data.head()"
   ]
  },
  {
   "cell_type": "code",
   "execution_count": 5,
   "metadata": {},
   "outputs": [
    {
     "data": {
      "text/plain": [
       "<matplotlib.axes._subplots.AxesSubplot at 0x1a1b6201d0>"
      ]
     },
     "execution_count": 5,
     "metadata": {},
     "output_type": "execute_result"
    },
    {
     "data": {
      "image/png": "[encoded data removed]",
      "text/plain": [
       "<Figure size 432x288 with 1 Axes>"
      ]
     },
     "metadata": {},
     "output_type": "display_data"
    }
   ],
   "source": [
    "sns.barplot(x=\"week_bin_4\", y=\"is_salary\", data=final_data)"
   ]
  },
  {
   "cell_type": "code",
   "execution_count": 6,
   "metadata": {},
   "outputs": [],
   "source": [
    "def feature_plot(df, feature):\n",
    "    sns.barplot(x=feature, y=\"is_salary\", data=df)"
   ]
  },
  {
   "cell_type": "code",
   "execution_count": 7,
   "metadata": {},
   "outputs": [],
   "source": [
    "features = ['wagesal_pattern', 'large_amount', 'num_similar_bool','pattern_is_similar_bool', 'week_bin_4']"
   ]
  },
  {
   "cell_type": "code",
   "execution_count": 8,
   "metadata": {},
   "outputs": [
    {
     "data": {
      "application/vnd.jupyter.widget-view+json": {
       "model_id": "510977c669264b2ebde212d4cd52f67c",
       "version_major": 2,
       "version_minor": 0
      },
      "text/plain": [
       "interactive(children=(Dropdown(description='feature', options=('wagesal_pattern', 'large_amount', 'num_similar…"
      ]
     },
     "metadata": {},
     "output_type": "display_data"
    }
   ],
   "source": [
    "interact(feature_plot, \n",
    "         feature=features, df=fixed(final_data));"
   ]
  },
  {
   "cell_type": "code",
   "execution_count": null,
   "metadata": {},
   "outputs": [],
   "source": []
  }
 ],
 "metadata": {
  "kernelspec": {
   "display_name": "Python 3",
   "language": "python",
   "name": "python3"
  },
  "language_info": {
   "codemirror_mode": {
    "name": "ipython",
    "version": 3
   },
   "file_extension": ".py",
   "mimetype": "text/x-python",
   "name": "python",
   "nbconvert_exporter": "python",
   "pygments_lexer": "ipython3",
   "version": "3.7.6"
  }
 },
 "nbformat": 4,
 "nbformat_minor": 4
}
