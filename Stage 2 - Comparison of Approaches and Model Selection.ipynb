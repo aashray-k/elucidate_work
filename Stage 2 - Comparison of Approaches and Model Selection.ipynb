{
 "cells": [
  {
   "cell_type": "markdown",
   "metadata": {},
   "source": [
    "# Model Selection\n",
    "\n",
    "## A comparison of the NLP only, NLP+Features, and Features only apporaches to identify the best model and approach, followed by hyperparameter tuning to obtain the final model"
   ]
  },
  {
   "cell_type": "markdown",
   "metadata": {},
   "source": [
    "- RidgeClassifier, LogisticRegression, XGBoost, and SVC were found to yield the highest custom accuracy scores in intial analyses (which compared all 15 models suggest by Pycaret, but had a large runtime)\n",
    "- Thus we consider these 4 models in our cross-validations here"
   ]
  },
  {
   "cell_type": "code",
   "execution_count": 17,
   "metadata": {},
   "outputs": [],
   "source": [
    "import numpy as np\n",
    "import pandas as pd\n",
    "import fasttext\n",
    "import random\n",
    "from sklearn.linear_model import RidgeClassifier\n",
    "from sklearn.linear_model import LogisticRegression\n",
    "from sklearn.svm import SVC\n",
    "from xgboost import XGBClassifier\n",
    "from sklearn.metrics import balanced_accuracy_score\n",
    "from sklearn.metrics import recall_score"
   ]
  },
  {
   "cell_type": "code",
   "execution_count": 18,
   "metadata": {},
   "outputs": [
    {
     "name": "stderr",
     "output_type": "stream",
     "text": [
      "Warning : `load_model` does not return WordVectorModel or SupervisedModel any more, but a `FastText` object which is very similar.\n"
     ]
    }
   ],
   "source": [
    "model_fasttext = fasttext.load_model(\"transactions_repmodel.bin\")"
   ]
  },
  {
   "cell_type": "code",
   "execution_count": 19,
   "metadata": {},
   "outputs": [],
   "source": [
    "def consumer_accuracy(test_frame, prediction_incorrect): \n",
    "    tot_incorrect = test_frame[test_frame[prediction_incorrect] == True].groupby('consumer_ref').sum().count().iloc[0]\n",
    "    tot = test_frame.groupby('consumer_ref').sum().count().iloc[0]\n",
    "    accuracy = 1 - tot_incorrect / tot\n",
    "    return accuracy"
   ]
  },
  {
   "cell_type": "code",
   "execution_count": 20,
   "metadata": {},
   "outputs": [],
   "source": [
    "final_data = pd.read_csv(\"final_data.csv\")"
   ]
  },
  {
   "cell_type": "code",
   "execution_count": 21,
   "metadata": {},
   "outputs": [],
   "source": [
    "customer_list = list(final_data.consumer_ref.unique())\n",
    "random.seed(42)\n",
    "length = len(customer_list)\n",
    "cv_random_split_sample = random.sample(customer_list, length)\n",
    "CV = 5"
   ]
  },
  {
   "cell_type": "markdown",
   "metadata": {},
   "source": [
    "### *Note that the cv column in the cross validations is only showing the mean value of cv (prints 3 when 5 folds were created)*"
   ]
  },
  {
   "cell_type": "markdown",
   "metadata": {},
   "source": [
    "### NLP Only Approach"
   ]
  },
  {
   "cell_type": "code",
   "execution_count": 27,
   "metadata": {},
   "outputs": [],
   "source": [
    "def cross_val_nlp_only(CV, model):\n",
    "    results = pd.DataFrame(columns = ['cv','train_accuracy_custom', 'test_accuracy_custom', 'balanced_accuracy_train', \n",
    "                                  'balanced_accuracy_test', 'recall_train', 'recall_test'])\n",
    "    for i in range(CV):\n",
    "        size = int(length/CV)\n",
    "        lb = size*i\n",
    "        ub = lb+size\n",
    "        \n",
    "        test_cons_list= cv_random_split_sample[lb:ub]\n",
    "        train_cons_list = set(cv_random_split_sample) - set(test_cons_list)\n",
    "        train_frame = pd.DataFrame() \n",
    "        for customer in train_cons_list: \n",
    "            frame = final_data[final_data.consumer_ref == customer] \n",
    "            train_frame = pd.concat([train_frame, frame], axis=0)\n",
    "        test_frame = pd.DataFrame() \n",
    "        for customer in test_cons_list: \n",
    "            frame = final_data[final_data.consumer_ref == customer] \n",
    "            test_frame = pd.concat([test_frame, frame], axis=0)\n",
    "            \n",
    "        train_vector = train_frame.pattern.apply(model_fasttext.get_sentence_vector)\n",
    "    \n",
    "        X_train = pd.DataFrame.from_records(train_vector.array)\n",
    "        y_train = train_frame[\"is_salary\"]\n",
    "        model.fit(X_train, y_train)\n",
    "        \n",
    "        test_vector = test_frame.pattern.apply(model_fasttext.get_sentence_vector)\n",
    "        X_test = pd.DataFrame.from_records(test_vector.array)\n",
    "        y_test = test_frame[\"is_salary\"]\n",
    "        \n",
    "        test_frame[\"salary_predict\"] = model.predict(X_test)\n",
    "        test_frame['incorrect_predictor'] = test_frame['is_salary'] != test_frame['salary_predict']\n",
    "        train_frame[\"salary_predict\"] = model.predict(X_train)\n",
    "        train_frame['incorrect_predictor'] = train_frame['is_salary'] != train_frame['salary_predict']\n",
    "        \n",
    "        test_accuracy = consumer_accuracy(test_frame, 'incorrect_predictor')\n",
    "        train_accuracy = consumer_accuracy(train_frame, 'incorrect_predictor')\n",
    "        bac_train = balanced_accuracy_score(train_frame.is_salary, train_frame.salary_predict)\n",
    "        bac_test = balanced_accuracy_score(test_frame.is_salary, test_frame.salary_predict)\n",
    "        rec_train = recall_score(train_frame.is_salary, train_frame.salary_predict)\n",
    "        rec_test = recall_score(test_frame.is_salary, test_frame.salary_predict)\n",
    "        \n",
    "        results_iter = pd.DataFrame([i + 1,train_accuracy, test_accuracy, bac_train, bac_test, rec_train,\n",
    "                                     rec_test]).T\n",
    "        results_iter.columns = results.columns\n",
    "        results = pd.concat([results, results_iter], axis = 0)\n",
    "    return pd.DataFrame(results).mean().to_dict()"
   ]
  },
  {
   "cell_type": "code",
   "execution_count": 28,
   "metadata": {},
   "outputs": [],
   "source": [
    "results_cv_nlp_only = {}\n",
    "metrics_nlp_only = pd.DataFrame(columns = ['cv','train_accuracy_custom', 'test_accuracy_custom', 'balanced_accuracy_train', \n",
    "                                  'balanced_accuracy_test', 'recall_train', 'recall_test'])"
   ]
  },
  {
   "cell_type": "code",
   "execution_count": 29,
   "metadata": {},
   "outputs": [],
   "source": [
    "def add_model_nlp_only(model):\n",
    "    results_cv_nlp_only[str(model).split('(')[0]] = cross_val_nlp_only(CV, model)\n",
    "    return pd.concat([metrics_nlp_only,pd.DataFrame.from_dict(results_cv_nlp_only).T])"
   ]
  },
  {
   "cell_type": "code",
   "execution_count": 30,
   "metadata": {},
   "outputs": [],
   "source": [
    "ridge = RidgeClassifier()\n",
    "logistic = LogisticRegression()\n",
    "xgboost = XGBClassifier()\n",
    "svc = SVC()"
   ]
  },
  {
   "cell_type": "code",
   "execution_count": 31,
   "metadata": {},
   "outputs": [
    {
     "data": {
      "text/html": [
       "<div>\n",
       "<style scoped>\n",
       "    .dataframe tbody tr th:only-of-type {\n",
       "        vertical-align: middle;\n",
       "    }\n",
       "\n",
       "    .dataframe tbody tr th {\n",
       "        vertical-align: top;\n",
       "    }\n",
       "\n",
       "    .dataframe thead th {\n",
       "        text-align: right;\n",
       "    }\n",
       "</style>\n",
       "<table border=\"1\" class=\"dataframe\">\n",
       "  <thead>\n",
       "    <tr style=\"text-align: right;\">\n",
       "      <th></th>\n",
       "      <th>cv</th>\n",
       "      <th>train_accuracy_custom</th>\n",
       "      <th>test_accuracy_custom</th>\n",
       "      <th>balanced_accuracy_train</th>\n",
       "      <th>balanced_accuracy_test</th>\n",
       "      <th>recall_train</th>\n",
       "      <th>recall_test</th>\n",
       "    </tr>\n",
       "  </thead>\n",
       "  <tbody>\n",
       "    <tr>\n",
       "      <th>RidgeClassifier</th>\n",
       "      <td>3.0</td>\n",
       "      <td>0.698</td>\n",
       "      <td>0.69</td>\n",
       "      <td>0.821944</td>\n",
       "      <td>0.810719</td>\n",
       "      <td>0.64582</td>\n",
       "      <td>0.623312</td>\n",
       "    </tr>\n",
       "  </tbody>\n",
       "</table>\n",
       "</div>"
      ],
      "text/plain": [
       "                  cv  train_accuracy_custom  test_accuracy_custom  \\\n",
       "RidgeClassifier  3.0                  0.698                  0.69   \n",
       "\n",
       "                 balanced_accuracy_train  balanced_accuracy_test  \\\n",
       "RidgeClassifier                 0.821944                0.810719   \n",
       "\n",
       "                 recall_train  recall_test  \n",
       "RidgeClassifier       0.64582     0.623312  "
      ]
     },
     "execution_count": 31,
     "metadata": {},
     "output_type": "execute_result"
    }
   ],
   "source": [
    "add_model_nlp_only(ridge)"
   ]
  },
  {
   "cell_type": "code",
   "execution_count": 32,
   "metadata": {},
   "outputs": [
    {
     "data": {
      "text/html": [
       "<div>\n",
       "<style scoped>\n",
       "    .dataframe tbody tr th:only-of-type {\n",
       "        vertical-align: middle;\n",
       "    }\n",
       "\n",
       "    .dataframe tbody tr th {\n",
       "        vertical-align: top;\n",
       "    }\n",
       "\n",
       "    .dataframe thead th {\n",
       "        text-align: right;\n",
       "    }\n",
       "</style>\n",
       "<table border=\"1\" class=\"dataframe\">\n",
       "  <thead>\n",
       "    <tr style=\"text-align: right;\">\n",
       "      <th></th>\n",
       "      <th>cv</th>\n",
       "      <th>train_accuracy_custom</th>\n",
       "      <th>test_accuracy_custom</th>\n",
       "      <th>balanced_accuracy_train</th>\n",
       "      <th>balanced_accuracy_test</th>\n",
       "      <th>recall_train</th>\n",
       "      <th>recall_test</th>\n",
       "    </tr>\n",
       "  </thead>\n",
       "  <tbody>\n",
       "    <tr>\n",
       "      <th>RidgeClassifier</th>\n",
       "      <td>3.0</td>\n",
       "      <td>0.6980</td>\n",
       "      <td>0.690</td>\n",
       "      <td>0.821944</td>\n",
       "      <td>0.810719</td>\n",
       "      <td>0.645820</td>\n",
       "      <td>0.623312</td>\n",
       "    </tr>\n",
       "    <tr>\n",
       "      <th>LogisticRegression</th>\n",
       "      <td>3.0</td>\n",
       "      <td>0.7485</td>\n",
       "      <td>0.752</td>\n",
       "      <td>0.862803</td>\n",
       "      <td>0.849585</td>\n",
       "      <td>0.728444</td>\n",
       "      <td>0.704405</td>\n",
       "    </tr>\n",
       "  </tbody>\n",
       "</table>\n",
       "</div>"
      ],
      "text/plain": [
       "                     cv  train_accuracy_custom  test_accuracy_custom  \\\n",
       "RidgeClassifier     3.0                 0.6980                 0.690   \n",
       "LogisticRegression  3.0                 0.7485                 0.752   \n",
       "\n",
       "                    balanced_accuracy_train  balanced_accuracy_test  \\\n",
       "RidgeClassifier                    0.821944                0.810719   \n",
       "LogisticRegression                 0.862803                0.849585   \n",
       "\n",
       "                    recall_train  recall_test  \n",
       "RidgeClassifier         0.645820     0.623312  \n",
       "LogisticRegression      0.728444     0.704405  "
      ]
     },
     "execution_count": 32,
     "metadata": {},
     "output_type": "execute_result"
    }
   ],
   "source": [
    "add_model_nlp_only(logistic)"
   ]
  },
  {
   "cell_type": "code",
   "execution_count": 33,
   "metadata": {},
   "outputs": [
    {
     "data": {
      "text/html": [
       "<div>\n",
       "<style scoped>\n",
       "    .dataframe tbody tr th:only-of-type {\n",
       "        vertical-align: middle;\n",
       "    }\n",
       "\n",
       "    .dataframe tbody tr th {\n",
       "        vertical-align: top;\n",
       "    }\n",
       "\n",
       "    .dataframe thead th {\n",
       "        text-align: right;\n",
       "    }\n",
       "</style>\n",
       "<table border=\"1\" class=\"dataframe\">\n",
       "  <thead>\n",
       "    <tr style=\"text-align: right;\">\n",
       "      <th></th>\n",
       "      <th>cv</th>\n",
       "      <th>train_accuracy_custom</th>\n",
       "      <th>test_accuracy_custom</th>\n",
       "      <th>balanced_accuracy_train</th>\n",
       "      <th>balanced_accuracy_test</th>\n",
       "      <th>recall_train</th>\n",
       "      <th>recall_test</th>\n",
       "    </tr>\n",
       "  </thead>\n",
       "  <tbody>\n",
       "    <tr>\n",
       "      <th>RidgeClassifier</th>\n",
       "      <td>3.0</td>\n",
       "      <td>0.6980</td>\n",
       "      <td>0.690</td>\n",
       "      <td>0.821944</td>\n",
       "      <td>0.810719</td>\n",
       "      <td>0.645820</td>\n",
       "      <td>0.623312</td>\n",
       "    </tr>\n",
       "    <tr>\n",
       "      <th>LogisticRegression</th>\n",
       "      <td>3.0</td>\n",
       "      <td>0.7485</td>\n",
       "      <td>0.752</td>\n",
       "      <td>0.862803</td>\n",
       "      <td>0.849585</td>\n",
       "      <td>0.728444</td>\n",
       "      <td>0.704405</td>\n",
       "    </tr>\n",
       "    <tr>\n",
       "      <th>XGBClassifier</th>\n",
       "      <td>3.0</td>\n",
       "      <td>0.8150</td>\n",
       "      <td>0.728</td>\n",
       "      <td>0.940116</td>\n",
       "      <td>0.863262</td>\n",
       "      <td>0.882618</td>\n",
       "      <td>0.729990</td>\n",
       "    </tr>\n",
       "  </tbody>\n",
       "</table>\n",
       "</div>"
      ],
      "text/plain": [
       "                     cv  train_accuracy_custom  test_accuracy_custom  \\\n",
       "RidgeClassifier     3.0                 0.6980                 0.690   \n",
       "LogisticRegression  3.0                 0.7485                 0.752   \n",
       "XGBClassifier       3.0                 0.8150                 0.728   \n",
       "\n",
       "                    balanced_accuracy_train  balanced_accuracy_test  \\\n",
       "RidgeClassifier                    0.821944                0.810719   \n",
       "LogisticRegression                 0.862803                0.849585   \n",
       "XGBClassifier                      0.940116                0.863262   \n",
       "\n",
       "                    recall_train  recall_test  \n",
       "RidgeClassifier         0.645820     0.623312  \n",
       "LogisticRegression      0.728444     0.704405  \n",
       "XGBClassifier           0.882618     0.729990  "
      ]
     },
     "execution_count": 33,
     "metadata": {},
     "output_type": "execute_result"
    }
   ],
   "source": [
    "add_model_nlp_only(xgboost)"
   ]
  },
  {
   "cell_type": "code",
   "execution_count": 34,
   "metadata": {},
   "outputs": [],
   "source": [
    "metrics_nlp_only = add_model_nlp_only(svc)"
   ]
  },
  {
   "cell_type": "code",
   "execution_count": 37,
   "metadata": {},
   "outputs": [
    {
     "data": {
      "text/html": [
       "<div>\n",
       "<style scoped>\n",
       "    .dataframe tbody tr th:only-of-type {\n",
       "        vertical-align: middle;\n",
       "    }\n",
       "\n",
       "    .dataframe tbody tr th {\n",
       "        vertical-align: top;\n",
       "    }\n",
       "\n",
       "    .dataframe thead th {\n",
       "        text-align: right;\n",
       "    }\n",
       "</style>\n",
       "<table border=\"1\" class=\"dataframe\">\n",
       "  <thead>\n",
       "    <tr style=\"text-align: right;\">\n",
       "      <th></th>\n",
       "      <th>cv</th>\n",
       "      <th>train_accuracy_custom</th>\n",
       "      <th>test_accuracy_custom</th>\n",
       "      <th>balanced_accuracy_train</th>\n",
       "      <th>balanced_accuracy_test</th>\n",
       "      <th>recall_train</th>\n",
       "      <th>recall_test</th>\n",
       "    </tr>\n",
       "  </thead>\n",
       "  <tbody>\n",
       "    <tr>\n",
       "      <th>SVC</th>\n",
       "      <td>3.0</td>\n",
       "      <td>0.8170</td>\n",
       "      <td>0.778</td>\n",
       "      <td>0.924849</td>\n",
       "      <td>0.880458</td>\n",
       "      <td>0.851936</td>\n",
       "      <td>0.764901</td>\n",
       "    </tr>\n",
       "    <tr>\n",
       "      <th>LogisticRegression</th>\n",
       "      <td>3.0</td>\n",
       "      <td>0.7485</td>\n",
       "      <td>0.752</td>\n",
       "      <td>0.862803</td>\n",
       "      <td>0.849585</td>\n",
       "      <td>0.728444</td>\n",
       "      <td>0.704405</td>\n",
       "    </tr>\n",
       "    <tr>\n",
       "      <th>XGBClassifier</th>\n",
       "      <td>3.0</td>\n",
       "      <td>0.8150</td>\n",
       "      <td>0.728</td>\n",
       "      <td>0.940116</td>\n",
       "      <td>0.863262</td>\n",
       "      <td>0.882618</td>\n",
       "      <td>0.729990</td>\n",
       "    </tr>\n",
       "    <tr>\n",
       "      <th>RidgeClassifier</th>\n",
       "      <td>3.0</td>\n",
       "      <td>0.6980</td>\n",
       "      <td>0.690</td>\n",
       "      <td>0.821944</td>\n",
       "      <td>0.810719</td>\n",
       "      <td>0.645820</td>\n",
       "      <td>0.623312</td>\n",
       "    </tr>\n",
       "  </tbody>\n",
       "</table>\n",
       "</div>"
      ],
      "text/plain": [
       "                     cv  train_accuracy_custom  test_accuracy_custom  \\\n",
       "SVC                 3.0                 0.8170                 0.778   \n",
       "LogisticRegression  3.0                 0.7485                 0.752   \n",
       "XGBClassifier       3.0                 0.8150                 0.728   \n",
       "RidgeClassifier     3.0                 0.6980                 0.690   \n",
       "\n",
       "                    balanced_accuracy_train  balanced_accuracy_test  \\\n",
       "SVC                                0.924849                0.880458   \n",
       "LogisticRegression                 0.862803                0.849585   \n",
       "XGBClassifier                      0.940116                0.863262   \n",
       "RidgeClassifier                    0.821944                0.810719   \n",
       "\n",
       "                    recall_train  recall_test  \n",
       "SVC                     0.851936     0.764901  \n",
       "LogisticRegression      0.728444     0.704405  \n",
       "XGBClassifier           0.882618     0.729990  \n",
       "RidgeClassifier         0.645820     0.623312  "
      ]
     },
     "execution_count": 37,
     "metadata": {},
     "output_type": "execute_result"
    }
   ],
   "source": [
    "metrics_nlp_only.sort_values(by = ['test_accuracy_custom'], ascending = False)"
   ]
  },
  {
   "cell_type": "code",
   "execution_count": null,
   "metadata": {},
   "outputs": [],
   "source": []
  },
  {
   "cell_type": "markdown",
   "metadata": {},
   "source": [
    "### NLP+Features"
   ]
  },
  {
   "cell_type": "code",
   "execution_count": 44,
   "metadata": {},
   "outputs": [],
   "source": [
    "features = ['wagesal_pattern']  # , 'large_amount', 'week_bin_4','num_similar_bool']\n",
    "# wagesal_pattern was found to yield highest accuracy, other variables commented out are correlated but lowered\n",
    "# custom accuracy when included"
   ]
  },
  {
   "cell_type": "code",
   "execution_count": 45,
   "metadata": {},
   "outputs": [],
   "source": [
    "def cross_val_nlp_features(CV, features, model):\n",
    "    results = pd.DataFrame(columns = ['cv','train_accuracy_custom', 'test_accuracy_custom', 'balanced_accuracy_train', \n",
    "                                  'balanced_accuracy_test', 'recall_train', 'recall_test'])\n",
    "    for i in range(CV):\n",
    "        size = int(length/CV)\n",
    "        lb = size*i\n",
    "        ub = lb+size\n",
    "        test_cons_list= cv_random_split_sample[lb:ub]\n",
    "        train_cons_list = set(cv_random_split_sample) - set(test_cons_list)\n",
    "        train_frame = pd.DataFrame() \n",
    "        for customer in train_cons_list: \n",
    "            frame = final_data[final_data.consumer_ref == customer] \n",
    "            train_frame = pd.concat([train_frame, frame], axis=0)\n",
    "        test_frame = pd.DataFrame() \n",
    "        for customer in test_cons_list: \n",
    "            frame = final_data[final_data.consumer_ref == customer] \n",
    "            test_frame = pd.concat([test_frame, frame], axis=0)\n",
    "        train_vector = train_frame.pattern.apply(model_fasttext.get_sentence_vector)\n",
    "        count_vect_df = pd.DataFrame.from_records(train_vector.array)\n",
    "        X_train = pd.concat([train_frame.reset_index()[features],\n",
    "                             count_vect_df], axis=1)\n",
    "        y_train = train_frame[\"is_salary\"]\n",
    "        model.fit(X_train, y_train)\n",
    "        test_vector = test_frame.pattern.apply(model_fasttext.get_sentence_vector)\n",
    "        test_count_vect_df = pd.DataFrame.from_records(test_vector.array)\n",
    "        X_test = pd.concat([test_frame.reset_index()[features],\n",
    "                            test_count_vect_df], axis=1)\n",
    "        y_test = test_frame[\"is_salary\"]\n",
    "        test_frame[\"salary_predict\"] = model.predict(X_test)\n",
    "        test_frame['incorrect_predictor'] = test_frame['is_salary'] != test_frame['salary_predict']\n",
    "        train_frame[\"salary_predict\"] = model.predict(X_train)\n",
    "        train_frame['incorrect_predictor'] = train_frame['is_salary'] != train_frame['salary_predict']\n",
    "        \n",
    "        test_accuracy = consumer_accuracy(test_frame, 'incorrect_predictor')\n",
    "        train_accuracy = consumer_accuracy(train_frame, 'incorrect_predictor')\n",
    "        bac_train = balanced_accuracy_score(train_frame.is_salary, train_frame.salary_predict)\n",
    "        bac_test = balanced_accuracy_score(test_frame.is_salary, test_frame.salary_predict)\n",
    "        rec_train = recall_score(train_frame.is_salary, train_frame.salary_predict)\n",
    "        rec_test = recall_score(test_frame.is_salary, test_frame.salary_predict)\n",
    "        \n",
    "        results_iter = pd.DataFrame([i + 1,train_accuracy, test_accuracy, bac_train, bac_test, rec_train,\n",
    "                                     rec_test]).T\n",
    "        results_iter.columns = results.columns\n",
    "        results = pd.concat([results, results_iter], axis = 0)\n",
    "    return pd.DataFrame(results).mean().to_dict()"
   ]
  },
  {
   "cell_type": "code",
   "execution_count": 46,
   "metadata": {},
   "outputs": [],
   "source": [
    "results_cv_nlp_features = {}\n",
    "metrics_nlp_features = pd.DataFrame(columns = ['cv','train_accuracy_custom', 'test_accuracy_custom', 'balanced_accuracy_train', \n",
    "                                  'balanced_accuracy_test', 'recall_train', 'recall_test'])"
   ]
  },
  {
   "cell_type": "code",
   "execution_count": 47,
   "metadata": {},
   "outputs": [],
   "source": [
    "def add_model_nlp_features(model):\n",
    "    results_cv_nlp_features[str(model).split('(')[0]] = cross_val_nlp_features(CV, features, model)\n",
    "    return pd.concat([metrics_nlp_features,pd.DataFrame.from_dict(results_cv_nlp_features).T])"
   ]
  },
  {
   "cell_type": "code",
   "execution_count": 48,
   "metadata": {},
   "outputs": [
    {
     "data": {
      "text/html": [
       "<div>\n",
       "<style scoped>\n",
       "    .dataframe tbody tr th:only-of-type {\n",
       "        vertical-align: middle;\n",
       "    }\n",
       "\n",
       "    .dataframe tbody tr th {\n",
       "        vertical-align: top;\n",
       "    }\n",
       "\n",
       "    .dataframe thead th {\n",
       "        text-align: right;\n",
       "    }\n",
       "</style>\n",
       "<table border=\"1\" class=\"dataframe\">\n",
       "  <thead>\n",
       "    <tr style=\"text-align: right;\">\n",
       "      <th></th>\n",
       "      <th>cv</th>\n",
       "      <th>train_accuracy_custom</th>\n",
       "      <th>test_accuracy_custom</th>\n",
       "      <th>balanced_accuracy_train</th>\n",
       "      <th>balanced_accuracy_test</th>\n",
       "      <th>recall_train</th>\n",
       "      <th>recall_test</th>\n",
       "    </tr>\n",
       "  </thead>\n",
       "  <tbody>\n",
       "    <tr>\n",
       "      <th>RidgeClassifier</th>\n",
       "      <td>3.0</td>\n",
       "      <td>0.763</td>\n",
       "      <td>0.76</td>\n",
       "      <td>0.84887</td>\n",
       "      <td>0.846767</td>\n",
       "      <td>0.701081</td>\n",
       "      <td>0.697025</td>\n",
       "    </tr>\n",
       "  </tbody>\n",
       "</table>\n",
       "</div>"
      ],
      "text/plain": [
       "                  cv  train_accuracy_custom  test_accuracy_custom  \\\n",
       "RidgeClassifier  3.0                  0.763                  0.76   \n",
       "\n",
       "                 balanced_accuracy_train  balanced_accuracy_test  \\\n",
       "RidgeClassifier                  0.84887                0.846767   \n",
       "\n",
       "                 recall_train  recall_test  \n",
       "RidgeClassifier      0.701081     0.697025  "
      ]
     },
     "execution_count": 48,
     "metadata": {},
     "output_type": "execute_result"
    }
   ],
   "source": [
    "add_model_nlp_features(ridge)"
   ]
  },
  {
   "cell_type": "code",
   "execution_count": 49,
   "metadata": {},
   "outputs": [
    {
     "data": {
      "text/html": [
       "<div>\n",
       "<style scoped>\n",
       "    .dataframe tbody tr th:only-of-type {\n",
       "        vertical-align: middle;\n",
       "    }\n",
       "\n",
       "    .dataframe tbody tr th {\n",
       "        vertical-align: top;\n",
       "    }\n",
       "\n",
       "    .dataframe thead th {\n",
       "        text-align: right;\n",
       "    }\n",
       "</style>\n",
       "<table border=\"1\" class=\"dataframe\">\n",
       "  <thead>\n",
       "    <tr style=\"text-align: right;\">\n",
       "      <th></th>\n",
       "      <th>cv</th>\n",
       "      <th>train_accuracy_custom</th>\n",
       "      <th>test_accuracy_custom</th>\n",
       "      <th>balanced_accuracy_train</th>\n",
       "      <th>balanced_accuracy_test</th>\n",
       "      <th>recall_train</th>\n",
       "      <th>recall_test</th>\n",
       "    </tr>\n",
       "  </thead>\n",
       "  <tbody>\n",
       "    <tr>\n",
       "      <th>RidgeClassifier</th>\n",
       "      <td>3.0</td>\n",
       "      <td>0.763</td>\n",
       "      <td>0.760</td>\n",
       "      <td>0.848870</td>\n",
       "      <td>0.846767</td>\n",
       "      <td>0.701081</td>\n",
       "      <td>0.697025</td>\n",
       "    </tr>\n",
       "    <tr>\n",
       "      <th>LogisticRegression</th>\n",
       "      <td>3.0</td>\n",
       "      <td>0.769</td>\n",
       "      <td>0.762</td>\n",
       "      <td>0.856669</td>\n",
       "      <td>0.852172</td>\n",
       "      <td>0.716258</td>\n",
       "      <td>0.709798</td>\n",
       "    </tr>\n",
       "  </tbody>\n",
       "</table>\n",
       "</div>"
      ],
      "text/plain": [
       "                     cv  train_accuracy_custom  test_accuracy_custom  \\\n",
       "RidgeClassifier     3.0                  0.763                 0.760   \n",
       "LogisticRegression  3.0                  0.769                 0.762   \n",
       "\n",
       "                    balanced_accuracy_train  balanced_accuracy_test  \\\n",
       "RidgeClassifier                    0.848870                0.846767   \n",
       "LogisticRegression                 0.856669                0.852172   \n",
       "\n",
       "                    recall_train  recall_test  \n",
       "RidgeClassifier         0.701081     0.697025  \n",
       "LogisticRegression      0.716258     0.709798  "
      ]
     },
     "execution_count": 49,
     "metadata": {},
     "output_type": "execute_result"
    }
   ],
   "source": [
    "add_model_nlp_features(logistic)"
   ]
  },
  {
   "cell_type": "code",
   "execution_count": 50,
   "metadata": {},
   "outputs": [
    {
     "data": {
      "text/html": [
       "<div>\n",
       "<style scoped>\n",
       "    .dataframe tbody tr th:only-of-type {\n",
       "        vertical-align: middle;\n",
       "    }\n",
       "\n",
       "    .dataframe tbody tr th {\n",
       "        vertical-align: top;\n",
       "    }\n",
       "\n",
       "    .dataframe thead th {\n",
       "        text-align: right;\n",
       "    }\n",
       "</style>\n",
       "<table border=\"1\" class=\"dataframe\">\n",
       "  <thead>\n",
       "    <tr style=\"text-align: right;\">\n",
       "      <th></th>\n",
       "      <th>cv</th>\n",
       "      <th>train_accuracy_custom</th>\n",
       "      <th>test_accuracy_custom</th>\n",
       "      <th>balanced_accuracy_train</th>\n",
       "      <th>balanced_accuracy_test</th>\n",
       "      <th>recall_train</th>\n",
       "      <th>recall_test</th>\n",
       "    </tr>\n",
       "  </thead>\n",
       "  <tbody>\n",
       "    <tr>\n",
       "      <th>RidgeClassifier</th>\n",
       "      <td>3.0</td>\n",
       "      <td>0.763</td>\n",
       "      <td>0.760</td>\n",
       "      <td>0.848870</td>\n",
       "      <td>0.846767</td>\n",
       "      <td>0.701081</td>\n",
       "      <td>0.697025</td>\n",
       "    </tr>\n",
       "    <tr>\n",
       "      <th>LogisticRegression</th>\n",
       "      <td>3.0</td>\n",
       "      <td>0.769</td>\n",
       "      <td>0.762</td>\n",
       "      <td>0.856669</td>\n",
       "      <td>0.852172</td>\n",
       "      <td>0.716258</td>\n",
       "      <td>0.709798</td>\n",
       "    </tr>\n",
       "    <tr>\n",
       "      <th>XGBClassifier</th>\n",
       "      <td>3.0</td>\n",
       "      <td>0.844</td>\n",
       "      <td>0.770</td>\n",
       "      <td>0.941936</td>\n",
       "      <td>0.867897</td>\n",
       "      <td>0.885647</td>\n",
       "      <td>0.738674</td>\n",
       "    </tr>\n",
       "  </tbody>\n",
       "</table>\n",
       "</div>"
      ],
      "text/plain": [
       "                     cv  train_accuracy_custom  test_accuracy_custom  \\\n",
       "RidgeClassifier     3.0                  0.763                 0.760   \n",
       "LogisticRegression  3.0                  0.769                 0.762   \n",
       "XGBClassifier       3.0                  0.844                 0.770   \n",
       "\n",
       "                    balanced_accuracy_train  balanced_accuracy_test  \\\n",
       "RidgeClassifier                    0.848870                0.846767   \n",
       "LogisticRegression                 0.856669                0.852172   \n",
       "XGBClassifier                      0.941936                0.867897   \n",
       "\n",
       "                    recall_train  recall_test  \n",
       "RidgeClassifier         0.701081     0.697025  \n",
       "LogisticRegression      0.716258     0.709798  \n",
       "XGBClassifier           0.885647     0.738674  "
      ]
     },
     "execution_count": 50,
     "metadata": {},
     "output_type": "execute_result"
    }
   ],
   "source": [
    "add_model_nlp_features(xgboost)"
   ]
  },
  {
   "cell_type": "code",
   "execution_count": 51,
   "metadata": {},
   "outputs": [],
   "source": [
    "metrics_nlp_features = add_model_nlp_features(svc)"
   ]
  },
  {
   "cell_type": "code",
   "execution_count": 52,
   "metadata": {},
   "outputs": [
    {
     "data": {
      "text/html": [
       "<div>\n",
       "<style scoped>\n",
       "    .dataframe tbody tr th:only-of-type {\n",
       "        vertical-align: middle;\n",
       "    }\n",
       "\n",
       "    .dataframe tbody tr th {\n",
       "        vertical-align: top;\n",
       "    }\n",
       "\n",
       "    .dataframe thead th {\n",
       "        text-align: right;\n",
       "    }\n",
       "</style>\n",
       "<table border=\"1\" class=\"dataframe\">\n",
       "  <thead>\n",
       "    <tr style=\"text-align: right;\">\n",
       "      <th></th>\n",
       "      <th>cv</th>\n",
       "      <th>train_accuracy_custom</th>\n",
       "      <th>test_accuracy_custom</th>\n",
       "      <th>balanced_accuracy_train</th>\n",
       "      <th>balanced_accuracy_test</th>\n",
       "      <th>recall_train</th>\n",
       "      <th>recall_test</th>\n",
       "    </tr>\n",
       "  </thead>\n",
       "  <tbody>\n",
       "    <tr>\n",
       "      <th>SVC</th>\n",
       "      <td>3.0</td>\n",
       "      <td>0.821</td>\n",
       "      <td>0.786</td>\n",
       "      <td>0.916836</td>\n",
       "      <td>0.874895</td>\n",
       "      <td>0.835536</td>\n",
       "      <td>0.753104</td>\n",
       "    </tr>\n",
       "    <tr>\n",
       "      <th>XGBClassifier</th>\n",
       "      <td>3.0</td>\n",
       "      <td>0.844</td>\n",
       "      <td>0.770</td>\n",
       "      <td>0.941936</td>\n",
       "      <td>0.867897</td>\n",
       "      <td>0.885647</td>\n",
       "      <td>0.738674</td>\n",
       "    </tr>\n",
       "    <tr>\n",
       "      <th>LogisticRegression</th>\n",
       "      <td>3.0</td>\n",
       "      <td>0.769</td>\n",
       "      <td>0.762</td>\n",
       "      <td>0.856669</td>\n",
       "      <td>0.852172</td>\n",
       "      <td>0.716258</td>\n",
       "      <td>0.709798</td>\n",
       "    </tr>\n",
       "    <tr>\n",
       "      <th>RidgeClassifier</th>\n",
       "      <td>3.0</td>\n",
       "      <td>0.763</td>\n",
       "      <td>0.760</td>\n",
       "      <td>0.848870</td>\n",
       "      <td>0.846767</td>\n",
       "      <td>0.701081</td>\n",
       "      <td>0.697025</td>\n",
       "    </tr>\n",
       "  </tbody>\n",
       "</table>\n",
       "</div>"
      ],
      "text/plain": [
       "                     cv  train_accuracy_custom  test_accuracy_custom  \\\n",
       "SVC                 3.0                  0.821                 0.786   \n",
       "XGBClassifier       3.0                  0.844                 0.770   \n",
       "LogisticRegression  3.0                  0.769                 0.762   \n",
       "RidgeClassifier     3.0                  0.763                 0.760   \n",
       "\n",
       "                    balanced_accuracy_train  balanced_accuracy_test  \\\n",
       "SVC                                0.916836                0.874895   \n",
       "XGBClassifier                      0.941936                0.867897   \n",
       "LogisticRegression                 0.856669                0.852172   \n",
       "RidgeClassifier                    0.848870                0.846767   \n",
       "\n",
       "                    recall_train  recall_test  \n",
       "SVC                     0.835536     0.753104  \n",
       "XGBClassifier           0.885647     0.738674  \n",
       "LogisticRegression      0.716258     0.709798  \n",
       "RidgeClassifier         0.701081     0.697025  "
      ]
     },
     "execution_count": 52,
     "metadata": {},
     "output_type": "execute_result"
    }
   ],
   "source": [
    "metrics_nlp_features.sort_values(by = ['test_accuracy_custom'], ascending = False)"
   ]
  },
  {
   "cell_type": "code",
   "execution_count": null,
   "metadata": {},
   "outputs": [],
   "source": []
  },
  {
   "cell_type": "markdown",
   "metadata": {},
   "source": [
    "### Features Only"
   ]
  },
  {
   "cell_type": "code",
   "execution_count": 53,
   "metadata": {},
   "outputs": [],
   "source": [
    "features_only = ['wagesal_pattern','large_amount', 'num_similar', 'pattern_is_similar_bool','week_bin_4']"
   ]
  },
  {
   "cell_type": "code",
   "execution_count": 54,
   "metadata": {},
   "outputs": [],
   "source": [
    "def cross_val_features_only(CV, features, model):\n",
    "    results = pd.DataFrame(columns = ['cv','train_accuracy_custom', 'test_accuracy_custom', 'balanced_accuracy_train', \n",
    "                                  'balanced_accuracy_test', 'recall_train', 'recall_test'])\n",
    "    for i in range(CV):\n",
    "        size = int(length/CV)\n",
    "        lb = size*i\n",
    "        ub = lb+size\n",
    "        test_cons_list= cv_random_split_sample[lb:ub]\n",
    "        train_cons_list = set(cv_random_split_sample) - set(test_cons_list)\n",
    "        train_frame = pd.DataFrame() \n",
    "        for customer in train_cons_list: \n",
    "            frame = final_data[final_data.consumer_ref == customer] \n",
    "            train_frame = pd.concat([train_frame, frame], axis=0)\n",
    "        test_frame = pd.DataFrame() \n",
    "        for customer in test_cons_list: \n",
    "            frame = final_data[final_data.consumer_ref == customer] \n",
    "            test_frame = pd.concat([test_frame, frame], axis=0)\n",
    "        X_train = train_frame[features_only]\n",
    "        y_train = train_frame[\"is_salary\"]\n",
    "        model.fit(X_train, y_train)\n",
    "        X_test = test_frame[features_only]\n",
    "        y_test = test_frame[\"is_salary\"]\n",
    "        test_frame[\"salary_predict\"] = model.predict(X_test)\n",
    "        test_frame['incorrect_predictor'] = test_frame['is_salary'] != test_frame['salary_predict']\n",
    "        train_frame[\"salary_predict\"] = model.predict(X_train)\n",
    "        train_frame['incorrect_predictor'] = train_frame['is_salary'] != train_frame['salary_predict']\n",
    "        \n",
    "        test_accuracy = consumer_accuracy(test_frame, 'incorrect_predictor')\n",
    "        train_accuracy = consumer_accuracy(train_frame, 'incorrect_predictor')\n",
    "        bac_train = balanced_accuracy_score(train_frame.is_salary, train_frame.salary_predict)\n",
    "        bac_test = balanced_accuracy_score(test_frame.is_salary, test_frame.salary_predict)\n",
    "        rec_train = recall_score(train_frame.is_salary, train_frame.salary_predict)\n",
    "        rec_test = recall_score(test_frame.is_salary, test_frame.salary_predict)\n",
    "        \n",
    "        results_iter = pd.DataFrame([i + 1,train_accuracy, test_accuracy, bac_train, bac_test, rec_train,\n",
    "                                     rec_test]).T\n",
    "        results_iter.columns = results.columns\n",
    "        results = pd.concat([results, results_iter], axis = 0)\n",
    "    return pd.DataFrame(results).mean().to_dict()"
   ]
  },
  {
   "cell_type": "code",
   "execution_count": 55,
   "metadata": {},
   "outputs": [],
   "source": [
    "results_cv_features_only = {}\n",
    "metrics_features_only = pd.DataFrame(columns = ['cv','train_accuracy_custom', 'test_accuracy_custom', 'balanced_accuracy_train', \n",
    "                                  'balanced_accuracy_test', 'recall_train', 'recall_test'])"
   ]
  },
  {
   "cell_type": "code",
   "execution_count": 56,
   "metadata": {},
   "outputs": [],
   "source": [
    "def add_model_features_only(model):\n",
    "    results_cv_features_only[str(model).split('(')[0]] = cross_val_features_only(CV, features_only, model)\n",
    "    return pd.concat([metrics_features_only,pd.DataFrame.from_dict(results_cv_features_only).T])"
   ]
  },
  {
   "cell_type": "code",
   "execution_count": 57,
   "metadata": {},
   "outputs": [
    {
     "data": {
      "text/html": [
       "<div>\n",
       "<style scoped>\n",
       "    .dataframe tbody tr th:only-of-type {\n",
       "        vertical-align: middle;\n",
       "    }\n",
       "\n",
       "    .dataframe tbody tr th {\n",
       "        vertical-align: top;\n",
       "    }\n",
       "\n",
       "    .dataframe thead th {\n",
       "        text-align: right;\n",
       "    }\n",
       "</style>\n",
       "<table border=\"1\" class=\"dataframe\">\n",
       "  <thead>\n",
       "    <tr style=\"text-align: right;\">\n",
       "      <th></th>\n",
       "      <th>cv</th>\n",
       "      <th>train_accuracy_custom</th>\n",
       "      <th>test_accuracy_custom</th>\n",
       "      <th>balanced_accuracy_train</th>\n",
       "      <th>balanced_accuracy_test</th>\n",
       "      <th>recall_train</th>\n",
       "      <th>recall_test</th>\n",
       "    </tr>\n",
       "  </thead>\n",
       "  <tbody>\n",
       "    <tr>\n",
       "      <th>RidgeClassifier</th>\n",
       "      <td>3.0</td>\n",
       "      <td>0.754</td>\n",
       "      <td>0.754</td>\n",
       "      <td>0.842698</td>\n",
       "      <td>0.843471</td>\n",
       "      <td>0.688611</td>\n",
       "      <td>0.690212</td>\n",
       "    </tr>\n",
       "  </tbody>\n",
       "</table>\n",
       "</div>"
      ],
      "text/plain": [
       "                  cv  train_accuracy_custom  test_accuracy_custom  \\\n",
       "RidgeClassifier  3.0                  0.754                 0.754   \n",
       "\n",
       "                 balanced_accuracy_train  balanced_accuracy_test  \\\n",
       "RidgeClassifier                 0.842698                0.843471   \n",
       "\n",
       "                 recall_train  recall_test  \n",
       "RidgeClassifier      0.688611     0.690212  "
      ]
     },
     "execution_count": 57,
     "metadata": {},
     "output_type": "execute_result"
    }
   ],
   "source": [
    "add_model_features_only(ridge)"
   ]
  },
  {
   "cell_type": "code",
   "execution_count": 58,
   "metadata": {},
   "outputs": [
    {
     "data": {
      "text/html": [
       "<div>\n",
       "<style scoped>\n",
       "    .dataframe tbody tr th:only-of-type {\n",
       "        vertical-align: middle;\n",
       "    }\n",
       "\n",
       "    .dataframe tbody tr th {\n",
       "        vertical-align: top;\n",
       "    }\n",
       "\n",
       "    .dataframe thead th {\n",
       "        text-align: right;\n",
       "    }\n",
       "</style>\n",
       "<table border=\"1\" class=\"dataframe\">\n",
       "  <thead>\n",
       "    <tr style=\"text-align: right;\">\n",
       "      <th></th>\n",
       "      <th>cv</th>\n",
       "      <th>train_accuracy_custom</th>\n",
       "      <th>test_accuracy_custom</th>\n",
       "      <th>balanced_accuracy_train</th>\n",
       "      <th>balanced_accuracy_test</th>\n",
       "      <th>recall_train</th>\n",
       "      <th>recall_test</th>\n",
       "    </tr>\n",
       "  </thead>\n",
       "  <tbody>\n",
       "    <tr>\n",
       "      <th>RidgeClassifier</th>\n",
       "      <td>3.0</td>\n",
       "      <td>0.754</td>\n",
       "      <td>0.754</td>\n",
       "      <td>0.842698</td>\n",
       "      <td>0.843471</td>\n",
       "      <td>0.688611</td>\n",
       "      <td>0.690212</td>\n",
       "    </tr>\n",
       "    <tr>\n",
       "      <th>LogisticRegression</th>\n",
       "      <td>3.0</td>\n",
       "      <td>0.754</td>\n",
       "      <td>0.754</td>\n",
       "      <td>0.842698</td>\n",
       "      <td>0.843471</td>\n",
       "      <td>0.688611</td>\n",
       "      <td>0.690212</td>\n",
       "    </tr>\n",
       "  </tbody>\n",
       "</table>\n",
       "</div>"
      ],
      "text/plain": [
       "                     cv  train_accuracy_custom  test_accuracy_custom  \\\n",
       "RidgeClassifier     3.0                  0.754                 0.754   \n",
       "LogisticRegression  3.0                  0.754                 0.754   \n",
       "\n",
       "                    balanced_accuracy_train  balanced_accuracy_test  \\\n",
       "RidgeClassifier                    0.842698                0.843471   \n",
       "LogisticRegression                 0.842698                0.843471   \n",
       "\n",
       "                    recall_train  recall_test  \n",
       "RidgeClassifier         0.688611     0.690212  \n",
       "LogisticRegression      0.688611     0.690212  "
      ]
     },
     "execution_count": 58,
     "metadata": {},
     "output_type": "execute_result"
    }
   ],
   "source": [
    "add_model_features_only(logistic)"
   ]
  },
  {
   "cell_type": "code",
   "execution_count": 59,
   "metadata": {},
   "outputs": [
    {
     "data": {
      "text/html": [
       "<div>\n",
       "<style scoped>\n",
       "    .dataframe tbody tr th:only-of-type {\n",
       "        vertical-align: middle;\n",
       "    }\n",
       "\n",
       "    .dataframe tbody tr th {\n",
       "        vertical-align: top;\n",
       "    }\n",
       "\n",
       "    .dataframe thead th {\n",
       "        text-align: right;\n",
       "    }\n",
       "</style>\n",
       "<table border=\"1\" class=\"dataframe\">\n",
       "  <thead>\n",
       "    <tr style=\"text-align: right;\">\n",
       "      <th></th>\n",
       "      <th>cv</th>\n",
       "      <th>train_accuracy_custom</th>\n",
       "      <th>test_accuracy_custom</th>\n",
       "      <th>balanced_accuracy_train</th>\n",
       "      <th>balanced_accuracy_test</th>\n",
       "      <th>recall_train</th>\n",
       "      <th>recall_test</th>\n",
       "    </tr>\n",
       "  </thead>\n",
       "  <tbody>\n",
       "    <tr>\n",
       "      <th>RidgeClassifier</th>\n",
       "      <td>3.0</td>\n",
       "      <td>0.754</td>\n",
       "      <td>0.754</td>\n",
       "      <td>0.842698</td>\n",
       "      <td>0.843471</td>\n",
       "      <td>0.688611</td>\n",
       "      <td>0.690212</td>\n",
       "    </tr>\n",
       "    <tr>\n",
       "      <th>LogisticRegression</th>\n",
       "      <td>3.0</td>\n",
       "      <td>0.754</td>\n",
       "      <td>0.754</td>\n",
       "      <td>0.842698</td>\n",
       "      <td>0.843471</td>\n",
       "      <td>0.688611</td>\n",
       "      <td>0.690212</td>\n",
       "    </tr>\n",
       "    <tr>\n",
       "      <th>XGBClassifier</th>\n",
       "      <td>3.0</td>\n",
       "      <td>0.737</td>\n",
       "      <td>0.726</td>\n",
       "      <td>0.888101</td>\n",
       "      <td>0.883439</td>\n",
       "      <td>0.784060</td>\n",
       "      <td>0.775767</td>\n",
       "    </tr>\n",
       "  </tbody>\n",
       "</table>\n",
       "</div>"
      ],
      "text/plain": [
       "                     cv  train_accuracy_custom  test_accuracy_custom  \\\n",
       "RidgeClassifier     3.0                  0.754                 0.754   \n",
       "LogisticRegression  3.0                  0.754                 0.754   \n",
       "XGBClassifier       3.0                  0.737                 0.726   \n",
       "\n",
       "                    balanced_accuracy_train  balanced_accuracy_test  \\\n",
       "RidgeClassifier                    0.842698                0.843471   \n",
       "LogisticRegression                 0.842698                0.843471   \n",
       "XGBClassifier                      0.888101                0.883439   \n",
       "\n",
       "                    recall_train  recall_test  \n",
       "RidgeClassifier         0.688611     0.690212  \n",
       "LogisticRegression      0.688611     0.690212  \n",
       "XGBClassifier           0.784060     0.775767  "
      ]
     },
     "execution_count": 59,
     "metadata": {},
     "output_type": "execute_result"
    }
   ],
   "source": [
    "add_model_features_only(xgboost)"
   ]
  },
  {
   "cell_type": "code",
   "execution_count": 60,
   "metadata": {},
   "outputs": [],
   "source": [
    "metrics_features_only = add_model_features_only(svc)"
   ]
  },
  {
   "cell_type": "code",
   "execution_count": 61,
   "metadata": {},
   "outputs": [
    {
     "data": {
      "text/html": [
       "<div>\n",
       "<style scoped>\n",
       "    .dataframe tbody tr th:only-of-type {\n",
       "        vertical-align: middle;\n",
       "    }\n",
       "\n",
       "    .dataframe tbody tr th {\n",
       "        vertical-align: top;\n",
       "    }\n",
       "\n",
       "    .dataframe thead th {\n",
       "        text-align: right;\n",
       "    }\n",
       "</style>\n",
       "<table border=\"1\" class=\"dataframe\">\n",
       "  <thead>\n",
       "    <tr style=\"text-align: right;\">\n",
       "      <th></th>\n",
       "      <th>cv</th>\n",
       "      <th>train_accuracy_custom</th>\n",
       "      <th>test_accuracy_custom</th>\n",
       "      <th>balanced_accuracy_train</th>\n",
       "      <th>balanced_accuracy_test</th>\n",
       "      <th>recall_train</th>\n",
       "      <th>recall_test</th>\n",
       "    </tr>\n",
       "  </thead>\n",
       "  <tbody>\n",
       "    <tr>\n",
       "      <th>RidgeClassifier</th>\n",
       "      <td>3.0</td>\n",
       "      <td>0.754</td>\n",
       "      <td>0.754</td>\n",
       "      <td>0.842698</td>\n",
       "      <td>0.843471</td>\n",
       "      <td>0.688611</td>\n",
       "      <td>0.690212</td>\n",
       "    </tr>\n",
       "    <tr>\n",
       "      <th>LogisticRegression</th>\n",
       "      <td>3.0</td>\n",
       "      <td>0.754</td>\n",
       "      <td>0.754</td>\n",
       "      <td>0.842698</td>\n",
       "      <td>0.843471</td>\n",
       "      <td>0.688611</td>\n",
       "      <td>0.690212</td>\n",
       "    </tr>\n",
       "    <tr>\n",
       "      <th>SVC</th>\n",
       "      <td>3.0</td>\n",
       "      <td>0.754</td>\n",
       "      <td>0.754</td>\n",
       "      <td>0.842287</td>\n",
       "      <td>0.843128</td>\n",
       "      <td>0.687699</td>\n",
       "      <td>0.689432</td>\n",
       "    </tr>\n",
       "    <tr>\n",
       "      <th>XGBClassifier</th>\n",
       "      <td>3.0</td>\n",
       "      <td>0.737</td>\n",
       "      <td>0.726</td>\n",
       "      <td>0.888101</td>\n",
       "      <td>0.883439</td>\n",
       "      <td>0.784060</td>\n",
       "      <td>0.775767</td>\n",
       "    </tr>\n",
       "  </tbody>\n",
       "</table>\n",
       "</div>"
      ],
      "text/plain": [
       "                     cv  train_accuracy_custom  test_accuracy_custom  \\\n",
       "RidgeClassifier     3.0                  0.754                 0.754   \n",
       "LogisticRegression  3.0                  0.754                 0.754   \n",
       "SVC                 3.0                  0.754                 0.754   \n",
       "XGBClassifier       3.0                  0.737                 0.726   \n",
       "\n",
       "                    balanced_accuracy_train  balanced_accuracy_test  \\\n",
       "RidgeClassifier                    0.842698                0.843471   \n",
       "LogisticRegression                 0.842698                0.843471   \n",
       "SVC                                0.842287                0.843128   \n",
       "XGBClassifier                      0.888101                0.883439   \n",
       "\n",
       "                    recall_train  recall_test  \n",
       "RidgeClassifier         0.688611     0.690212  \n",
       "LogisticRegression      0.688611     0.690212  \n",
       "SVC                     0.687699     0.689432  \n",
       "XGBClassifier           0.784060     0.775767  "
      ]
     },
     "execution_count": 61,
     "metadata": {},
     "output_type": "execute_result"
    }
   ],
   "source": [
    "metrics_features_only.sort_values(by = ['test_accuracy_custom'], ascending = False)"
   ]
  },
  {
   "cell_type": "code",
   "execution_count": null,
   "metadata": {},
   "outputs": [],
   "source": []
  },
  {
   "cell_type": "markdown",
   "metadata": {},
   "source": [
    "## Looking at all three approaches side by side"
   ]
  },
  {
   "cell_type": "code",
   "execution_count": 66,
   "metadata": {},
   "outputs": [
    {
     "data": {
      "text/html": [
       "<div>\n",
       "<style scoped>\n",
       "    .dataframe tbody tr th:only-of-type {\n",
       "        vertical-align: middle;\n",
       "    }\n",
       "\n",
       "    .dataframe tbody tr th {\n",
       "        vertical-align: top;\n",
       "    }\n",
       "\n",
       "    .dataframe thead th {\n",
       "        text-align: right;\n",
       "    }\n",
       "</style>\n",
       "<table border=\"1\" class=\"dataframe\">\n",
       "  <thead>\n",
       "    <tr style=\"text-align: right;\">\n",
       "      <th></th>\n",
       "      <th>cv</th>\n",
       "      <th>train_accuracy_custom</th>\n",
       "      <th>test_accuracy_custom</th>\n",
       "      <th>balanced_accuracy_train</th>\n",
       "      <th>balanced_accuracy_test</th>\n",
       "      <th>recall_train</th>\n",
       "      <th>recall_test</th>\n",
       "    </tr>\n",
       "  </thead>\n",
       "  <tbody>\n",
       "    <tr>\n",
       "      <th>SVC</th>\n",
       "      <td>3.0</td>\n",
       "      <td>0.817</td>\n",
       "      <td>0.778</td>\n",
       "      <td>0.924849</td>\n",
       "      <td>0.880458</td>\n",
       "      <td>0.851936</td>\n",
       "      <td>0.764901</td>\n",
       "    </tr>\n",
       "  </tbody>\n",
       "</table>\n",
       "</div>"
      ],
      "text/plain": [
       "      cv  train_accuracy_custom  test_accuracy_custom  \\\n",
       "SVC  3.0                  0.817                 0.778   \n",
       "\n",
       "     balanced_accuracy_train  balanced_accuracy_test  recall_train  \\\n",
       "SVC                 0.924849                0.880458      0.851936   \n",
       "\n",
       "     recall_test  \n",
       "SVC     0.764901  "
      ]
     },
     "execution_count": 66,
     "metadata": {},
     "output_type": "execute_result"
    }
   ],
   "source": [
    "metrics_nlp_only.sort_values(by = ['test_accuracy_custom'], ascending = False).head(1)"
   ]
  },
  {
   "cell_type": "code",
   "execution_count": 67,
   "metadata": {},
   "outputs": [
    {
     "data": {
      "text/html": [
       "<div>\n",
       "<style scoped>\n",
       "    .dataframe tbody tr th:only-of-type {\n",
       "        vertical-align: middle;\n",
       "    }\n",
       "\n",
       "    .dataframe tbody tr th {\n",
       "        vertical-align: top;\n",
       "    }\n",
       "\n",
       "    .dataframe thead th {\n",
       "        text-align: right;\n",
       "    }\n",
       "</style>\n",
       "<table border=\"1\" class=\"dataframe\">\n",
       "  <thead>\n",
       "    <tr style=\"text-align: right;\">\n",
       "      <th></th>\n",
       "      <th>cv</th>\n",
       "      <th>train_accuracy_custom</th>\n",
       "      <th>test_accuracy_custom</th>\n",
       "      <th>balanced_accuracy_train</th>\n",
       "      <th>balanced_accuracy_test</th>\n",
       "      <th>recall_train</th>\n",
       "      <th>recall_test</th>\n",
       "    </tr>\n",
       "  </thead>\n",
       "  <tbody>\n",
       "    <tr>\n",
       "      <th>SVC</th>\n",
       "      <td>3.0</td>\n",
       "      <td>0.821</td>\n",
       "      <td>0.786</td>\n",
       "      <td>0.916836</td>\n",
       "      <td>0.874895</td>\n",
       "      <td>0.835536</td>\n",
       "      <td>0.753104</td>\n",
       "    </tr>\n",
       "  </tbody>\n",
       "</table>\n",
       "</div>"
      ],
      "text/plain": [
       "      cv  train_accuracy_custom  test_accuracy_custom  \\\n",
       "SVC  3.0                  0.821                 0.786   \n",
       "\n",
       "     balanced_accuracy_train  balanced_accuracy_test  recall_train  \\\n",
       "SVC                 0.916836                0.874895      0.835536   \n",
       "\n",
       "     recall_test  \n",
       "SVC     0.753104  "
      ]
     },
     "execution_count": 67,
     "metadata": {},
     "output_type": "execute_result"
    }
   ],
   "source": [
    "metrics_nlp_features.sort_values(by = ['test_accuracy_custom'], ascending = False).head(1)"
   ]
  },
  {
   "cell_type": "code",
   "execution_count": 68,
   "metadata": {},
   "outputs": [
    {
     "data": {
      "text/html": [
       "<div>\n",
       "<style scoped>\n",
       "    .dataframe tbody tr th:only-of-type {\n",
       "        vertical-align: middle;\n",
       "    }\n",
       "\n",
       "    .dataframe tbody tr th {\n",
       "        vertical-align: top;\n",
       "    }\n",
       "\n",
       "    .dataframe thead th {\n",
       "        text-align: right;\n",
       "    }\n",
       "</style>\n",
       "<table border=\"1\" class=\"dataframe\">\n",
       "  <thead>\n",
       "    <tr style=\"text-align: right;\">\n",
       "      <th></th>\n",
       "      <th>cv</th>\n",
       "      <th>train_accuracy_custom</th>\n",
       "      <th>test_accuracy_custom</th>\n",
       "      <th>balanced_accuracy_train</th>\n",
       "      <th>balanced_accuracy_test</th>\n",
       "      <th>recall_train</th>\n",
       "      <th>recall_test</th>\n",
       "    </tr>\n",
       "  </thead>\n",
       "  <tbody>\n",
       "    <tr>\n",
       "      <th>RidgeClassifier</th>\n",
       "      <td>3.0</td>\n",
       "      <td>0.754</td>\n",
       "      <td>0.754</td>\n",
       "      <td>0.842698</td>\n",
       "      <td>0.843471</td>\n",
       "      <td>0.688611</td>\n",
       "      <td>0.690212</td>\n",
       "    </tr>\n",
       "  </tbody>\n",
       "</table>\n",
       "</div>"
      ],
      "text/plain": [
       "                  cv  train_accuracy_custom  test_accuracy_custom  \\\n",
       "RidgeClassifier  3.0                  0.754                 0.754   \n",
       "\n",
       "                 balanced_accuracy_train  balanced_accuracy_test  \\\n",
       "RidgeClassifier                 0.842698                0.843471   \n",
       "\n",
       "                 recall_train  recall_test  \n",
       "RidgeClassifier      0.688611     0.690212  "
      ]
     },
     "execution_count": 68,
     "metadata": {},
     "output_type": "execute_result"
    }
   ],
   "source": [
    "metrics_features_only.sort_values(by = ['test_accuracy_custom'], ascending = False).head(1)"
   ]
  },
  {
   "cell_type": "markdown",
   "metadata": {},
   "source": [
    "### The SVC model applied to the NLP (fasttext)  + features (wagesal_pattern) approach yields the highest custom accuracy, so this is the model we will proceed with. "
   ]
  },
  {
   "cell_type": "code",
   "execution_count": null,
   "metadata": {},
   "outputs": [],
   "source": []
  },
  {
   "cell_type": "markdown",
   "metadata": {},
   "source": [
    "## Hyperparameter Tuning for SVC (nlp + features)"
   ]
  },
  {
   "cell_type": "code",
   "execution_count": 70,
   "metadata": {},
   "outputs": [],
   "source": [
    "from sklearn.model_selection import RandomizedSearchCV \n",
    "from scipy import stats"
   ]
  },
  {
   "cell_type": "code",
   "execution_count": 73,
   "metadata": {},
   "outputs": [],
   "source": [
    "# Generate train and test frames"
   ]
  },
  {
   "cell_type": "code",
   "execution_count": 75,
   "metadata": {},
   "outputs": [],
   "source": [
    "random.seed(42)\n",
    "test_cons_list= random.sample(customer_list, 100)\n",
    "train_cons_list = set(customer_list) - set(test_cons_list)\n",
    "train_frame = pd.DataFrame()  \n",
    "for customer in train_cons_list: \n",
    "    frame = final_data[final_data.consumer_ref == customer] \n",
    "    train_frame = pd.concat([train_frame, frame], axis=0)\n",
    "test_frame = pd.DataFrame() \n",
    "for customer in test_cons_list: \n",
    "    frame = final_data[final_data.consumer_ref == customer] \n",
    "    test_frame = pd.concat([test_frame, frame], axis=0)"
   ]
  },
  {
   "cell_type": "code",
   "execution_count": 76,
   "metadata": {},
   "outputs": [],
   "source": [
    "# Get X_rain, y_train, X_test, and y_test"
   ]
  },
  {
   "cell_type": "code",
   "execution_count": 77,
   "metadata": {},
   "outputs": [],
   "source": [
    "train_vector = train_frame.pattern.apply(model_fasttext.get_sentence_vector)\n",
    "X_train = pd.DataFrame.from_records(train_vector.array)\n",
    "X_train = pd.concat([train_frame['wagesal_pattern'].reset_index(),X_train], axis = 1).drop('index', axis = 1)\n",
    "y_train = train_frame[\"is_salary\"]\n",
    "          \n",
    "test_vector = test_frame.pattern.apply(model_fasttext.get_sentence_vector)\n",
    "X_test = pd.DataFrame.from_records(test_vector.array)\n",
    "X_test = pd.concat([test_frame['wagesal_pattern'].reset_index(),X_test], axis = 1).drop('index', axis = 1)\n",
    "y_test = test_frame[\"is_salary\"]"
   ]
  },
  {
   "cell_type": "code",
   "execution_count": 80,
   "metadata": {},
   "outputs": [],
   "source": [
    "param_rand = {\"C\": stats.uniform(2, 10),\n",
    "             \"gamma\": stats.uniform(0.1, 1)}\n",
    "\n",
    "# we can't score on custom accuracy, precision yields the next best score\n",
    "rand_search = RandomizedSearchCV(svc, param_rand, refit = True, verbose = 3, scoring = 'precision', cv = 3, \n",
    "                                 random_state = 42, n_jobs = -1) "
   ]
  },
  {
   "cell_type": "code",
   "execution_count": 81,
   "metadata": {},
   "outputs": [
    {
     "name": "stdout",
     "output_type": "stream",
     "text": [
      "Fitting 3 folds for each of 10 candidates, totalling 30 fits\n"
     ]
    },
    {
     "name": "stderr",
     "output_type": "stream",
     "text": [
      "[Parallel(n_jobs=-1)]: Using backend LokyBackend with 8 concurrent workers.\n",
      "[Parallel(n_jobs=-1)]: Done  26 out of  30 | elapsed:   10.6s remaining:    1.6s\n",
      "[Parallel(n_jobs=-1)]: Done  30 out of  30 | elapsed:   11.0s finished\n"
     ]
    },
    {
     "data": {
      "text/plain": [
       "RandomizedSearchCV(cv=3, error_score=nan,\n",
       "                   estimator=SVC(C=1.0, break_ties=False, cache_size=200,\n",
       "                                 class_weight=None, coef0=0.0,\n",
       "                                 decision_function_shape='ovr', degree=3,\n",
       "                                 gamma='scale', kernel='rbf', max_iter=-1,\n",
       "                                 probability=False, random_state=None,\n",
       "                                 shrinking=True, tol=0.001, verbose=False),\n",
       "                   iid='deprecated', n_iter=10, n_jobs=-1,\n",
       "                   param_distributions={'C': <scipy.stats._distn_infrastructure.rv_frozen object at 0x1a2a67d390>,\n",
       "                                        'gamma': <scipy.stats._distn_infrastructure.rv_frozen object at 0x1a2382ce10>},\n",
       "                   pre_dispatch='2*n_jobs', random_state=42, refit=True,\n",
       "                   return_train_score=False, scoring='precision', verbose=3)"
      ]
     },
     "execution_count": 81,
     "metadata": {},
     "output_type": "execute_result"
    }
   ],
   "source": [
    "rand_search.fit(X_train, y_train)\n"
   ]
  },
  {
   "cell_type": "code",
   "execution_count": 82,
   "metadata": {},
   "outputs": [
    {
     "name": "stdout",
     "output_type": "stream",
     "text": [
      "0.9511151407616123\n",
      "SVC(C=2.2058449429580245, break_ties=False, cache_size=200, class_weight=None,\n",
      "    coef0=0.0, decision_function_shape='ovr', degree=3,\n",
      "    gamma=1.0699098521619943, kernel='rbf', max_iter=-1, probability=False,\n",
      "    random_state=None, shrinking=True, tol=0.001, verbose=False)\n",
      "{'C': 2.2058449429580245, 'gamma': 1.0699098521619943}\n"
     ]
    }
   ],
   "source": [
    "print(rand_search.best_score_) \n",
    "print(rand_search.best_estimator_) \n",
    "print(rand_search.best_params_)"
   ]
  },
  {
   "cell_type": "code",
   "execution_count": 83,
   "metadata": {},
   "outputs": [],
   "source": [
    "predictions = rand_search.predict(X_test) "
   ]
  },
  {
   "cell_type": "code",
   "execution_count": 84,
   "metadata": {},
   "outputs": [
    {
     "name": "stdout",
     "output_type": "stream",
     "text": [
      "              precision    recall  f1-score   support\n",
      "\n",
      "           0       0.97      0.99      0.98      4220\n",
      "           1       0.93      0.69      0.79       438\n",
      "\n",
      "    accuracy                           0.97      4658\n",
      "   macro avg       0.95      0.84      0.89      4658\n",
      "weighted avg       0.96      0.97      0.96      4658\n",
      "\n"
     ]
    }
   ],
   "source": [
    "from sklearn.metrics import classification_report, confusion_matrix \n",
    "print(classification_report(y_test, predictions)) "
   ]
  },
  {
   "cell_type": "code",
   "execution_count": 85,
   "metadata": {},
   "outputs": [
    {
     "data": {
      "text/plain": [
       "0.78"
      ]
     },
     "execution_count": 85,
     "metadata": {},
     "output_type": "execute_result"
    }
   ],
   "source": [
    "test_frame['prediction'] = predictions\n",
    "test_frame['prediction_incorrect'] = test_frame['is_salary'] != test_frame['prediction']\n",
    "consumer_accuracy(test_frame,'prediction_incorrect')"
   ]
  },
  {
   "cell_type": "markdown",
   "metadata": {},
   "source": [
    "### Custom accuracy after hyperparameter tuning is 78%"
   ]
  },
  {
   "cell_type": "code",
   "execution_count": null,
   "metadata": {},
   "outputs": [],
   "source": []
  }
 ],
 "metadata": {
  "kernelspec": {
   "display_name": "Python 3",
   "language": "python",
   "name": "python3"
  },
  "language_info": {
   "codemirror_mode": {
    "name": "ipython",
    "version": 3
   },
   "file_extension": ".py",
   "mimetype": "text/x-python",
   "name": "python",
   "nbconvert_exporter": "python",
   "pygments_lexer": "ipython3",
   "version": "3.7.6"
  }
 },
 "nbformat": 4,
 "nbformat_minor": 4
}
