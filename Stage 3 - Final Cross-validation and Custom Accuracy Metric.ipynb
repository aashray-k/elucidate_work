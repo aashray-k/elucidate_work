{
 "cells": [
  {
   "cell_type": "code",
   "execution_count": 9,
   "metadata": {},
   "outputs": [
    {
     "name": "stderr",
     "output_type": "stream",
     "text": [
      "Warning : `load_model` does not return WordVectorModel or SupervisedModel any more, but a `FastText` object which is very similar.\n"
     ]
    }
   ],
   "source": [
    "import numpy as np\n",
    "import pandas as pd\n",
    "import fasttext\n",
    "import random\n",
    "from sklearn.svm import SVC\n",
    "model_fasttext = fasttext.load_model(\"transactions_repmodel.bin\")"
   ]
  },
  {
   "cell_type": "code",
   "execution_count": 2,
   "metadata": {},
   "outputs": [],
   "source": [
    "# custom accuracy metric\n",
    "def consumer_accuracy(test_frame, prediction_incorrect): \n",
    "    tot_incorrect = test_frame[test_frame[prediction_incorrect] == True].groupby('consumer_ref').sum().count().iloc[0]\n",
    "    tot = test_frame.groupby('consumer_ref').sum().count().iloc[0]\n",
    "    accuracy = 1 - tot_incorrect / tot\n",
    "    return accuracy"
   ]
  },
  {
   "cell_type": "code",
   "execution_count": 3,
   "metadata": {},
   "outputs": [],
   "source": [
    "all_labels = pd.read_csv(\"final_data.csv\")"
   ]
  },
  {
   "cell_type": "markdown",
   "metadata": {},
   "source": [
    "### Generate Train and Test folds"
   ]
  },
  {
   "cell_type": "code",
   "execution_count": 7,
   "metadata": {},
   "outputs": [],
   "source": [
    "# get train and test frames for cross validation folds\n",
    "customer_list = list(all_labels.consumer_ref.unique())\n",
    "random.seed(42)\n",
    "cons_list= random.sample(customer_list, 500)\n",
    "def get_train_test_frame(section):\n",
    "    ub = 100*section\n",
    "    lb = ub - 100\n",
    "    test_cons_list = cons_list[lb:ub]\n",
    "    test_frame = pd.DataFrame() \n",
    "    for customer in test_cons_list: \n",
    "        frame = all_labels[all_labels.consumer_ref == customer] \n",
    "        test_frame = pd.concat([test_frame, frame], axis=0)\n",
    "    train_cons_list = set(customer_list) - set(test_cons_list)\n",
    "    train_frame = pd.DataFrame()  \n",
    "    for customer in train_cons_list: \n",
    "        frame = all_labels[all_labels.consumer_ref == customer] \n",
    "        train_frame = pd.concat([train_frame, frame], axis=0)\n",
    "    return train_frame, test_frame"
   ]
  },
  {
   "cell_type": "code",
   "execution_count": 8,
   "metadata": {},
   "outputs": [],
   "source": [
    "train_1, test_1 = get_train_test_frame(1)\n",
    "train_2, test_2 = get_train_test_frame(2)\n",
    "train_3, test_3 = get_train_test_frame(3)\n",
    "train_4, test_4 = get_train_test_frame(4)\n",
    "train_5, test_5 = get_train_test_frame(5)"
   ]
  },
  {
   "cell_type": "code",
   "execution_count": 10,
   "metadata": {},
   "outputs": [],
   "source": [
    "# get X_train, y_train, X_test, y_test for cross_validation folds\n",
    "def apply_fasttext(train_frame,test_frame):\n",
    "    train_vector = train_frame.pattern.apply(model_fasttext.get_sentence_vector)\n",
    "    X_train = pd.DataFrame.from_records(train_vector.array)\n",
    "    X_train = pd.concat([train_frame['wagesal_pattern'].reset_index(),X_train], axis = 1).drop('index', axis = 1)\n",
    "    y_train = train_frame[\"is_salary\"]\n",
    "    test_vector = test_frame.pattern.apply(model_fasttext.get_sentence_vector)\n",
    "    X_test = pd.DataFrame.from_records(test_vector.array)\n",
    "    X_test = pd.concat([test_frame['wagesal_pattern'].reset_index(),X_test], axis = 1).drop('index', axis = 1)\n",
    "    y_test = test_frame[\"is_salary\"]\n",
    "    return X_train, X_test, y_train, y_test"
   ]
  },
  {
   "cell_type": "code",
   "execution_count": 11,
   "metadata": {},
   "outputs": [],
   "source": [
    "X_train_1, X_test_1, y_train_1, y_test_1 = apply_fasttext(train_1,test_1)\n",
    "X_train_2, X_test_2, y_train_2, y_test_2 = apply_fasttext(train_2,test_2)\n",
    "X_train_3, X_test_3, y_train_3, y_test_3 = apply_fasttext(train_3,test_3)\n",
    "X_train_4, X_test_4, y_train_4, y_test_4 = apply_fasttext(train_4,test_4)\n",
    "X_train_5, X_test_5, y_train_5, y_test_5 = apply_fasttext(train_5,test_5)"
   ]
  },
  {
   "cell_type": "markdown",
   "metadata": {},
   "source": [
    "### Estimate final custom-accuracy through cross-validation"
   ]
  },
  {
   "cell_type": "code",
   "execution_count": 19,
   "metadata": {},
   "outputs": [],
   "source": [
    "def cross_val_custom(X_train, y_train, X_test, test_frame):\n",
    "    # define best model obtained from hyperparameter tuning in Comparison of Approaches and Model Selection notebook\n",
    "    best_svc = SVC(C=2.2058449429580245, break_ties=False, cache_size=200, class_weight=None,\n",
    "    coef0=0.0, decision_function_shape='ovr', degree=3,\n",
    "    gamma=1.0699098521619943, kernel='rbf', max_iter=-1, probability=False,\n",
    "    random_state=42, shrinking=True, tol=0.001, verbose=False) \n",
    "    best_svc.fit(X_train, y_train)\n",
    "    predictions = best_svc.predict(X_test)\n",
    "    test_frame['prediction'] = predictions\n",
    "    test_frame['prediction_incorrect'] = test_frame['is_salary'] != test_frame['prediction']\n",
    "    consumer_accuracy_i = consumer_accuracy(test_frame, 'prediction_incorrect')\n",
    "    return consumer_accuracy_i"
   ]
  },
  {
   "cell_type": "code",
   "execution_count": 20,
   "metadata": {},
   "outputs": [],
   "source": [
    "consumer_accuracy_1 = cross_val_custom(X_train_1, y_train_1, X_test_1, test_1)\n",
    "consumer_accuracy_2 = cross_val_custom(X_train_2, y_train_2, X_test_2, test_2)\n",
    "consumer_accuracy_3 = cross_val_custom(X_train_3, y_train_3, X_test_3, test_3)\n",
    "consumer_accuracy_4 = cross_val_custom(X_train_4, y_train_4, X_test_4, test_4)\n",
    "consumer_accuracy_5 = cross_val_custom(X_train_5, y_train_5, X_test_5, test_5)"
   ]
  },
  {
   "cell_type": "code",
   "execution_count": 21,
   "metadata": {
    "scrolled": true
   },
   "outputs": [
    {
     "name": "stdout",
     "output_type": "stream",
     "text": [
      "0.78\n",
      "0.81\n",
      "0.75\n",
      "0.79\n",
      "0.78\n"
     ]
    }
   ],
   "source": [
    "print(consumer_accuracy_1)\n",
    "print(consumer_accuracy_2)\n",
    "print(consumer_accuracy_3)\n",
    "print(consumer_accuracy_4)\n",
    "print(consumer_accuracy_5)"
   ]
  },
  {
   "cell_type": "code",
   "execution_count": 22,
   "metadata": {},
   "outputs": [],
   "source": [
    "final_custom_accuracy_avg = (consumer_accuracy_1+consumer_accuracy_2+consumer_accuracy_3+\n",
    "                             consumer_accuracy_4+consumer_accuracy_5)/5\n",
    "\n"
   ]
  },
  {
   "cell_type": "code",
   "execution_count": 23,
   "metadata": {},
   "outputs": [
    {
     "data": {
      "text/plain": [
       "0.782"
      ]
     },
     "execution_count": 23,
     "metadata": {},
     "output_type": "execute_result"
    }
   ],
   "source": [
    "final_custom_accuracy_avg"
   ]
  },
  {
   "cell_type": "markdown",
   "metadata": {},
   "source": [
    "# Final Avg Custom Accuracy Estimate = 78.2%"
   ]
  },
  {
   "cell_type": "code",
   "execution_count": null,
   "metadata": {},
   "outputs": [],
   "source": []
  }
 ],
 "metadata": {
  "kernelspec": {
   "display_name": "Python 3",
   "language": "python",
   "name": "python3"
  },
  "language_info": {
   "codemirror_mode": {
    "name": "ipython",
    "version": 3
   },
   "file_extension": ".py",
   "mimetype": "text/x-python",
   "name": "python",
   "nbconvert_exporter": "python",
   "pygments_lexer": "ipython3",
   "version": "3.7.6"
  }
 },
 "nbformat": 4,
 "nbformat_minor": 4
}
